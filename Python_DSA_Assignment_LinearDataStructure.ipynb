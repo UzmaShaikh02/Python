{
 "cells": [
  {
   "cell_type": "markdown",
   "id": "0cf3c53a",
   "metadata": {},
   "source": [
    "Q1. Write a program to find all pairs of an integer array whose sum is equal to a given number?"
   ]
  },
  {
   "cell_type": "code",
   "execution_count": 1,
   "id": "a737732d",
   "metadata": {},
   "outputs": [
    {
     "name": "stdout",
     "output_type": "stream",
     "text": [
      "Count of pairs is 3\n"
     ]
    }
   ],
   "source": [
    "def getPairsCount(arr, n, sum):\n",
    " \n",
    "    count = 0  # Initialize result\n",
    " \n",
    "    # Consider all possible pairs\n",
    "    # and check their sums\n",
    "    for i in range(0, n):\n",
    "        for j in range(i + 1, n):\n",
    "            if arr[i] + arr[j] == sum:\n",
    "                count += 1\n",
    " \n",
    "    return count\n",
    "\n",
    "# Driver function\n",
    "arr = [1, 5, 7, -1, 5]\n",
    "n = len(arr)\n",
    "sum = 6\n",
    "print(\"Count of pairs is\",\n",
    "      getPairsCount(arr, n, sum))"
   ]
  },
  {
   "cell_type": "markdown",
   "id": "9c6cb955",
   "metadata": {},
   "source": [
    "Q2. Write a program to reverse an array in place? In place means you cannot create a new array. You have to update the original array."
   ]
  },
  {
   "cell_type": "code",
   "execution_count": 2,
   "id": "e171c1ea",
   "metadata": {},
   "outputs": [
    {
     "name": "stdout",
     "output_type": "stream",
     "text": [
      "[1, 2, 3, 4, 5, 6]\n",
      "Reversed list is\n",
      "[6, 5, 4, 3, 2, 1]\n"
     ]
    }
   ],
   "source": [
    "# Function to reverse A[] from start to end\n",
    "def reverseList(A, start, end):\n",
    "    while start < end:\n",
    "        A[start], A[end] = A[end], A[start]\n",
    "        start += 1\n",
    "        end -= 1\n",
    " \n",
    "# Driver function to test above function\n",
    "A = [1, 2, 3, 4, 5, 6]\n",
    "print(A)\n",
    "reverseList(A, 0, 5)\n",
    "print(\"Reversed list is\")\n",
    "print(A)"
   ]
  },
  {
   "cell_type": "markdown",
   "id": "6fa0b4e1",
   "metadata": {},
   "source": [
    "Q3. Write a program to check if two strings are a rotation of each other?"
   ]
  },
  {
   "cell_type": "code",
   "execution_count": 3,
   "id": "0b19db96",
   "metadata": {},
   "outputs": [
    {
     "name": "stdout",
     "output_type": "stream",
     "text": [
      "Strings are rotations of each other\n"
     ]
    }
   ],
   "source": [
    "def checkString(s1, s2, indexFound, Size):\n",
    "    for i in range(Size):\n",
    " \n",
    "        # check whether the character is equal or not\n",
    "        if(s1[i] != s2[(indexFound + i) % Size]):\n",
    "            return False\n",
    " \n",
    "        # %Size keeps (indexFound+i) in bounds,\n",
    "        # since it ensures it's value is always less than Size\n",
    "    return True\n",
    " \n",
    " \n",
    "# driver code\n",
    "s1 = \"abcd\"\n",
    "s2 = \"cdab\"\n",
    " \n",
    "if(len(s1) != len(s2)):\n",
    "    print(\"s2 is not a rotation on s1\")\n",
    "    \n",
    "else:\n",
    " \n",
    "    indexes = []  # store occurrences of the first character of s1\n",
    "    Size = len(s1)\n",
    "    firstChar = s1[0]\n",
    "    for i in range(Size):\n",
    "        if(s2[i] == firstChar):\n",
    "            indexes.append(i)\n",
    " \n",
    "    isRotation = False\n",
    " \n",
    "    # check if the strings are rotation of each other\n",
    "    # for every occurrence of firstChar in s2\n",
    "    for idx in indexes:\n",
    " \n",
    "        isRotation = checkString(s1, s2, idx, Size)\n",
    " \n",
    "        if(isRotation):\n",
    "            break\n",
    " \n",
    "    if(isRotation):\n",
    "        print(\"Strings are rotations of each other\")\n",
    "    else:\n",
    "        print(\"Strings are not rotations of each other\")"
   ]
  },
  {
   "cell_type": "markdown",
   "id": "4e7a164b",
   "metadata": {},
   "source": [
    "Q4. Write a program to print the first non-repeated character from a string?"
   ]
  },
  {
   "cell_type": "code",
   "execution_count": 4,
   "id": "25ce286a",
   "metadata": {},
   "outputs": [
    {
     "name": "stdout",
     "output_type": "stream",
     "text": [
      "First non-repeating character is f\n"
     ]
    }
   ],
   "source": [
    "# Python program to print the first non-repeating character\n",
    "NO_OF_CHARS = 256\n",
    "\n",
    "# Returns an array of size 256 containing count\n",
    "# of characters in the passed char array\n",
    "def getCharCountArray(string):\n",
    "    count = [0] * NO_OF_CHARS\n",
    "    for i in string:\n",
    "        count[ord(i)]+= 1\n",
    "    return count\n",
    "\n",
    "# The function returns index of first non-repeating\n",
    "# character in a string. If all characters are repeating\n",
    "# then returns -1\n",
    "def firstNonRepeating(string):\n",
    "    count = getCharCountArray(string)\n",
    "    index = -1\n",
    "    k = 0\n",
    "\n",
    "    for i in string:\n",
    "        if count[ord(i)] == 1:\n",
    "            index = k\n",
    "            break\n",
    "        k += 1\n",
    "\n",
    "    return index\n",
    "\n",
    "# Driver program to test above function\n",
    "string = \"geeksforgeeks\"\n",
    "index = firstNonRepeating(string)\n",
    "if index == 1:\n",
    "    print (\"Either all characters are repeating or string is empty\")\n",
    "else:\n",
    "    print (\"First non-repeating character is\" , string[index])\n",
    "\n",
    "# This code is contributed by Bhavya Jain\n"
   ]
  },
  {
   "cell_type": "markdown",
   "id": "e5919c2e",
   "metadata": {},
   "source": [
    "Q5. Read about the Tower of Hanoi algorithm. Write a program to implement it."
   ]
  },
  {
   "cell_type": "code",
   "execution_count": 5,
   "id": "51f85f45",
   "metadata": {},
   "outputs": [
    {
     "name": "stdout",
     "output_type": "stream",
     "text": [
      "Move disk 1 from rod A to rod C\n",
      "Move disk 2 from rod A to rod B\n",
      "Move disk 1 from rod C to rod B\n",
      "Move disk 3 from rod A to rod C\n",
      "Move disk 1 from rod B to rod A\n",
      "Move disk 2 from rod B to rod C\n",
      "Move disk 1 from rod A to rod C\n"
     ]
    }
   ],
   "source": [
    "def TowerOfHanoi(n, from_rod, to_rod, aux_rod):\n",
    "    if n == 0:\n",
    "        return\n",
    "    TowerOfHanoi(n-1, from_rod, aux_rod, to_rod)\n",
    "    print(\"Move disk\", n, \"from rod\", from_rod, \"to rod\", to_rod)\n",
    "    TowerOfHanoi(n-1, aux_rod, to_rod, from_rod)\n",
    " \n",
    " \n",
    "# Driver code\n",
    "N = 3\n",
    " \n",
    "# A, C, B are the name of rods\n",
    "TowerOfHanoi(N, 'A', 'C', 'B')"
   ]
  },
  {
   "cell_type": "markdown",
   "id": "8db08860",
   "metadata": {},
   "source": [
    "Q6. Read about infix, prefix, and postfix expressions. Write a program to convert postfix to prefix expression."
   ]
  },
  {
   "cell_type": "code",
   "execution_count": 6,
   "id": "16f660be",
   "metadata": {},
   "outputs": [
    {
     "name": "stdout",
     "output_type": "stream",
     "text": [
      "ABC/-AK/L-*\n"
     ]
    }
   ],
   "source": [
    "s = \"*-A/BC-/AKL\"\n",
    "\n",
    "# Stack for storing operands\n",
    "stack = []\n",
    "\n",
    "operators = set(['+', '-', '*', '/', '^'])\n",
    "\n",
    "# Reversing the order\n",
    "s = s[::-1]\n",
    "\n",
    "# iterating through individual tokens\n",
    "for i in s:\n",
    "\n",
    "    # if token is operator\n",
    "    if i in operators:\n",
    "        a = stack.pop()\n",
    "        b = stack.pop()\n",
    "        temp = a+b+i\n",
    "        stack.append(temp)\n",
    "\n",
    "    # else if operand\n",
    "    else:\n",
    "        stack.append(i)\n",
    "\n",
    "print(*stack)\n"
   ]
  },
  {
   "cell_type": "markdown",
   "id": "7a9d950c",
   "metadata": {},
   "source": [
    "Q7. Write a program to convert prefix expression to infix expression."
   ]
  },
  {
   "cell_type": "code",
   "execution_count": 7,
   "id": "bbc3d827",
   "metadata": {},
   "outputs": [
    {
     "name": "stdout",
     "output_type": "stream",
     "text": [
      "((A-(B/C))*((A/K)-L))\n"
     ]
    }
   ],
   "source": [
    "# Python Program to convert prefix to Infix\n",
    "def prefixToInfix(prefix):\n",
    "    stack = []\n",
    "\n",
    "    i = len(prefix) - 1\n",
    "    while i >= 0:\n",
    "        if not isOperator(prefix[i]):\n",
    "            stack.append(prefix[i])\n",
    "            i -= 1\n",
    "        else:\n",
    "            str = \"(\" + stack.pop() + prefix[i] + stack.pop() + \")\"\n",
    "            stack.append(str)\n",
    "            i -= 1\n",
    "    return stack.pop()\n",
    "\n",
    "def isOperator(c):\n",
    "    if c == \"*\" or c == \"+\" or c == \"-\" or c == \"/\" or c == \"^\" or c == \"(\" or c == \")\":\n",
    "        return True\n",
    "    else:\n",
    "        return False\n",
    "\n",
    "# Driver code\n",
    "if __name__==\"__main__\":\n",
    "    str = \"*-A/BC-/AKL\"\n",
    "    print(prefixToInfix(str))\n"
   ]
  },
  {
   "cell_type": "markdown",
   "id": "9a34f20f",
   "metadata": {},
   "source": [
    "Q8. Write a program to check if all the brackets are closed in a given code snippet."
   ]
  },
  {
   "cell_type": "code",
   "execution_count": 8,
   "id": "d983b3de",
   "metadata": {},
   "outputs": [
    {
     "name": "stdout",
     "output_type": "stream",
     "text": [
      "Balanced\n"
     ]
    }
   ],
   "source": [
    "def areBracketsBalanced(expr):\n",
    "\tstack = []\n",
    "\n",
    "\t# Traversing the Expression\n",
    "\tfor char in expr:\n",
    "\t\tif char in [\"(\", \"{\", \"[\"]:\n",
    "\n",
    "\t\t\t# Push the element in the stack\n",
    "\t\t\tstack.append(char)\n",
    "\t\telse:\n",
    "\t\t\tif not stack:\n",
    "\t\t\t\treturn False\n",
    "\t\t\tcurrent_char = stack.pop()\n",
    "\t\t\tif current_char == '(':\n",
    "\t\t\t\tif char != \")\":\n",
    "\t\t\t\t\treturn False\n",
    "\t\t\tif current_char == '{':\n",
    "\t\t\t\tif char != \"}\":\n",
    "\t\t\t\t\treturn False\n",
    "\t\t\tif current_char == '[':\n",
    "\t\t\t\tif char != \"]\":\n",
    "\t\t\t\t\treturn False\n",
    "\n",
    "\t# Check Empty Stack\n",
    "\tif stack:\n",
    "\t\treturn False\n",
    "\treturn True\n",
    "\n",
    "\n",
    "# Driver Code\n",
    "if __name__ == \"__main__\":\n",
    "\texpr = \"{()}[]\"\n",
    "\n",
    "\t# Function call\n",
    "\tif areBracketsBalanced(expr):\n",
    "\t\tprint(\"Balanced\")\n",
    "\telse:\n",
    "\t\tprint(\"Not Balanced\")\n",
    "\n"
   ]
  },
  {
   "cell_type": "markdown",
   "id": "f7d3118b",
   "metadata": {},
   "source": [
    "Q9. Write a program to reverse a stack."
   ]
  },
  {
   "cell_type": "code",
   "execution_count": 9,
   "id": "1e539e2b",
   "metadata": {},
   "outputs": [
    {
     "name": "stdout",
     "output_type": "stream",
     "text": [
      "Original Stack\n",
      "5\n",
      "4\n",
      "3\n",
      "2\n",
      "1\n",
      "\n",
      "Stack after Reversing\n",
      "1\n",
      "2\n",
      "3\n",
      "4\n",
      "5\n"
     ]
    }
   ],
   "source": [
    "class Stack:\n",
    "\n",
    "\tdef __init__(self):\n",
    "\t\tself.Elements = []\n",
    "\n",
    "\tdef push(self, value):\n",
    "\t\tself.Elements.append(value)\n",
    "\n",
    "\tdef pop(self):\n",
    "\t\treturn self.Elements.pop()\n",
    "\n",
    "\tdef empty(self):\n",
    "\t\treturn self.Elements == []\n",
    "\n",
    "\tdef show(self):\n",
    "\t\tfor value in reversed(self.Elements):\n",
    "\t\t\tprint(value)\n",
    "\n",
    "def BottomInsert(s, value):\n",
    "\n",
    "\t# check the stack is empty or not\n",
    "\tif s.empty():\n",
    "\t\ts.push(value)\n",
    "\telse:\n",
    "\t\tpopped = s.pop()\n",
    "\t\tBottomInsert(s, value)\n",
    "\t\ts.push(popped)\n",
    "\n",
    "def Reverse(s):\n",
    "\tif s.empty():\n",
    "\t\tpass\n",
    "\telse:\n",
    "\t\tpopped = s.pop()\n",
    "\t\tReverse(s)\n",
    "\t\tBottomInsert(s, popped)\n",
    "\n",
    "stk = Stack()\n",
    "\n",
    "stk.push(1)\n",
    "stk.push(2)\n",
    "stk.push(3)\n",
    "stk.push(4)\n",
    "stk.push(5)\n",
    "\n",
    "print(\"Original Stack\")\n",
    "stk.show()\n",
    "\n",
    "print(\"\\nStack after Reversing\")\n",
    "Reverse(stk)\n",
    "stk.show()\n"
   ]
  },
  {
   "cell_type": "markdown",
   "id": "133e7f2c",
   "metadata": {},
   "source": [
    "Q10. Write a program to find the smallest number using a stack."
   ]
  },
  {
   "cell_type": "code",
   "execution_count": 11,
   "id": "8ed654a7",
   "metadata": {},
   "outputs": [
    {
     "name": "stdout",
     "output_type": "stream",
     "text": [
      "Number Inserted: 3\n",
      "Number Inserted: 5\n",
      "Minimum Element in the stack is: 3\n",
      "Number Inserted: 2\n",
      "Number Inserted: 1\n",
      "Minimum Element in the stack is: 1\n",
      "Top Most Element Removed :1 \n",
      "Minimum Element in the stack is: 2\n",
      "Top Most Element Removed :2 \n",
      "Top Most Element is: 5\n"
     ]
    }
   ],
   "source": [
    "class Node:\n",
    "\tdef __init__(self, value):\n",
    "\t\tself.value = value\n",
    "\t\tself.next = None\n",
    "\tdef __str__(self):\n",
    "\t\treturn \"Node({})\".format(self.value)\n",
    "\t__repr__ = __str__\n",
    "\n",
    "\n",
    "class Stack:\n",
    "\tdef __init__(self):\n",
    "\t\tself.top = None\n",
    "\t\tself.count = 0\n",
    "\t\tself.minimum = None\n",
    "\tdef __str__(self):\n",
    "\t\ttemp = self.top\n",
    "\t\tout = []\n",
    "\t\twhile temp:\n",
    "\t\t\tout.append(str(temp.value))\n",
    "\t\t\ttemp = temp.next\n",
    "\t\tout = '\\n'.join(out)\n",
    "\t\treturn ('Top {} \\n\\nStack :\\n{}'.format(self.top, out))\n",
    "\n",
    "\t# __repr__ is same as __str__\n",
    "\t__repr__ = __str__\n",
    "\n",
    "\t# This method is used to get minimum element of stack\n",
    "\tdef getMin(self):\n",
    "\t\tif self.top is None:\n",
    "\t\t\treturn \"Stack is empty\"\n",
    "\t\telse:\n",
    "\t\t\tprint(\"Minimum Element in the stack is: {}\" .format(self.minimum))\n",
    "\n",
    "\t# Method to check if Stack is Empty or not\n",
    "\n",
    "\tdef isEmpty(self):\n",
    "\t\t# If top equals to None then stack is empty\n",
    "\t\tif self.top == None:\n",
    "\t\t\treturn True\n",
    "\t\telse:\n",
    "\t\t\t# If top not equal to None then stack is empty\n",
    "\t\t\treturn False\n",
    "\n",
    "\t# This method returns length of stack\n",
    "\tdef __len__(self):\n",
    "\t\tself.count = 0\n",
    "\t\ttempNode = self.top\n",
    "\t\twhile tempNode:\n",
    "\t\t\ttempNode = tempNode.next\n",
    "\t\t\tself.count += 1\n",
    "\t\treturn self.count\n",
    "\n",
    "\t# This method returns top of stack\n",
    "\tdef peek(self):\n",
    "\t\tif self.top is None:\n",
    "\t\t\tprint(\"Stack is empty\")\n",
    "\t\telse:\n",
    "\t\t\tif self.top.value < self.minimum:\n",
    "\t\t\t\tprint(\"Top Most Element is: {}\" .format(self.minimum))\n",
    "\t\t\telse:\n",
    "\t\t\t\tprint(\"Top Most Element is: {}\" .format(self.top.value))\n",
    "\n",
    "\t# This method is used to add node to stack\n",
    "\tdef push(self, value):\n",
    "\t\tif self.top is None:\n",
    "\t\t\tself.top = Node(value)\n",
    "\t\t\tself.minimum = value\n",
    "\n",
    "\t\telif value < self.minimum:\n",
    "\t\t\ttemp = (2 * value) - self.minimum\n",
    "\t\t\tnew_node = Node(temp)\n",
    "\t\t\tnew_node.next = self.top\n",
    "\t\t\tself.top = new_node\n",
    "\t\t\tself.minimum = value\n",
    "\t\telse:\n",
    "\t\t\tnew_node = Node(value)\n",
    "\t\t\tnew_node.next = self.top\n",
    "\t\t\tself.top = new_node\n",
    "\t\tprint(\"Number Inserted: {}\" .format(value))\n",
    "\n",
    "\t# This method is used to pop top of stack\n",
    "\tdef pop(self):\n",
    "\t\tif self.top is None:\n",
    "\t\t\tprint(\"Stack is empty\")\n",
    "\t\telse:\n",
    "\t\t\tremovedNode = self.top.value\n",
    "\t\t\tself.top = self.top.next\n",
    "\t\t\tif removedNode < self.minimum:\n",
    "\t\t\t\tprint(\"Top Most Element Removed :{} \" .format(self.minimum))\n",
    "\t\t\t\tself.minimum = ((2 * self.minimum) - removedNode)\n",
    "\t\t\telse:\n",
    "\t\t\t\tprint(\"Top Most Element Removed : {}\" .format(removedNode))\n",
    "\n",
    "\n",
    "# Driver program to test above class\n",
    "if __name__ == '__main__':\n",
    "    stack = Stack()\n",
    "\n",
    "# Function calls\n",
    "stack.push(3)\n",
    "stack.push(5)\n",
    "stack.getMin()\n",
    "stack.push(2)\n",
    "stack.push(1)\n",
    "stack.getMin()\n",
    "stack.pop()\n",
    "stack.getMin()\n",
    "stack.pop()\n",
    "stack.peek()"
   ]
  },
  {
   "cell_type": "code",
   "execution_count": null,
   "id": "c6a5fc4f",
   "metadata": {},
   "outputs": [],
   "source": []
  }
 ],
 "metadata": {
  "kernelspec": {
   "display_name": "Python 3 (ipykernel)",
   "language": "python",
   "name": "python3"
  },
  "language_info": {
   "codemirror_mode": {
    "name": "ipython",
    "version": 3
   },
   "file_extension": ".py",
   "mimetype": "text/x-python",
   "name": "python",
   "nbconvert_exporter": "python",
   "pygments_lexer": "ipython3",
   "version": "3.10.4"
  }
 },
 "nbformat": 4,
 "nbformat_minor": 5
}
