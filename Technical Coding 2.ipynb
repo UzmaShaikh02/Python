{
 "cells": [
  {
   "cell_type": "code",
   "execution_count": 6,
   "id": "7bdbf234",
   "metadata": {},
   "outputs": [
    {
     "name": "stdout",
     "output_type": "stream",
     "text": [
      "3\n",
      "4\n",
      "5\n",
      "Valid Triangle\n",
      "2\n",
      "4\n",
      "2\n",
      "4\n",
      "Valid Rectangle\n"
     ]
    }
   ],
   "source": [
    "def checkTriangle(a, b, c):\n",
    "     \n",
    "    #  A triangle is valid if sum of its two sides is greater than the third side. If three sides are a, b and c, then three conditions should be met\n",
    "    if (a + b <= c) or (a + c <= b) or (b + c <= a) :\n",
    "        return False\n",
    "    else:\n",
    "        return True       \n",
    " \n",
    "a = int(input()) \n",
    "b = int(input())\n",
    "c = int(input())\n",
    "if checkTriangle(a, b, c):\n",
    "    print(\"Valid Triangle\")\n",
    "else:\n",
    "    print(\"Invalid Triangle\")\n",
    "    \n",
    "\n",
    "def checkRectangle(a, b, c,d):\n",
    "     \n",
    "    #  A Rectangle is valid if its opposite sites has same lenght. If the sides are l and b, their size should be same\n",
    "    if (a == c & b == d):\n",
    "        return False\n",
    "    else:\n",
    "        return True       \n",
    " \n",
    "a = int(input()) \n",
    "b = int(input())\n",
    "c = int(input())\n",
    "d = int(input())\n",
    "if checkRectangle(a, b, c,d):\n",
    "    print(\"Valid Rectangle\")\n",
    "else:\n",
    "    print(\"Invalid Rectangle\")"
   ]
  },
  {
   "cell_type": "code",
   "execution_count": null,
   "id": "82248163",
   "metadata": {},
   "outputs": [],
   "source": [
    "\n"
   ]
  }
 ],
 "metadata": {
  "kernelspec": {
   "display_name": "Python 3 (ipykernel)",
   "language": "python",
   "name": "python3"
  },
  "language_info": {
   "codemirror_mode": {
    "name": "ipython",
    "version": 3
   },
   "file_extension": ".py",
   "mimetype": "text/x-python",
   "name": "python",
   "nbconvert_exporter": "python",
   "pygments_lexer": "ipython3",
   "version": "3.10.4"
  }
 },
 "nbformat": 4,
 "nbformat_minor": 5
}
