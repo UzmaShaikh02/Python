{
 "cells": [
  {
   "cell_type": "code",
   "execution_count": 1,
   "id": "d22a2794",
   "metadata": {},
   "outputs": [
    {
     "name": "stdout",
     "output_type": "stream",
     "text": [
      "Original list:  (4, 5, 2, 9)\n",
      "\n",
      "Square of list numbers:\n",
      "[16, 25, 4, 81]\n"
     ]
    }
   ],
   "source": [
    "nums = (4, 5, 2, 9) \n",
    "print(\"Original list: \", nums)\n",
    "result = map(lambda x: x * x, nums) \n",
    "print(\"\\nSquare of list numbers:\")\n",
    "print(list(result))"
   ]
  },
  {
   "cell_type": "code",
   "execution_count": null,
   "id": "291d8b9b",
   "metadata": {},
   "outputs": [],
   "source": []
  }
 ],
 "metadata": {
  "kernelspec": {
   "display_name": "Python 3 (ipykernel)",
   "language": "python",
   "name": "python3"
  },
  "language_info": {
   "codemirror_mode": {
    "name": "ipython",
    "version": 3
   },
   "file_extension": ".py",
   "mimetype": "text/x-python",
   "name": "python",
   "nbconvert_exporter": "python",
   "pygments_lexer": "ipython3",
   "version": "3.10.4"
  }
 },
 "nbformat": 4,
 "nbformat_minor": 5
}
