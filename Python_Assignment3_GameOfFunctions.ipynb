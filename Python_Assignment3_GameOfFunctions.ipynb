{
 "cells": [
  {
   "cell_type": "code",
   "execution_count": 3,
   "id": "13d6d154",
   "metadata": {},
   "outputs": [
    {
     "name": "stdout",
     "output_type": "stream",
     "text": [
      "20\n"
     ]
    }
   ],
   "source": [
    "def mysum(mylist):\n",
    "    result=0\n",
    "    for i in range(0,len(mylist)):\n",
    "        result= result + mylist[i]\n",
    "    print(result)\n",
    "\n",
    "mylist=[8,2,3,0,7]\n",
    "mysum(mylist)"
   ]
  },
  {
   "cell_type": "code",
   "execution_count": null,
   "id": "6e28d175",
   "metadata": {},
   "outputs": [],
   "source": []
  }
 ],
 "metadata": {
  "kernelspec": {
   "display_name": "Python 3 (ipykernel)",
   "language": "python",
   "name": "python3"
  },
  "language_info": {
   "codemirror_mode": {
    "name": "ipython",
    "version": 3
   },
   "file_extension": ".py",
   "mimetype": "text/x-python",
   "name": "python",
   "nbconvert_exporter": "python",
   "pygments_lexer": "ipython3",
   "version": "3.10.4"
  }
 },
 "nbformat": 4,
 "nbformat_minor": 5
}
