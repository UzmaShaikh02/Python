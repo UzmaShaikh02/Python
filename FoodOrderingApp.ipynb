{
 "cells": [
  {
   "cell_type": "markdown",
   "id": "8ee92e98",
   "metadata": {},
   "source": [
    "### FOOD ORDERING APP"
   ]
  },
  {
   "cell_type": "code",
   "execution_count": null,
   "id": "455ec0b6",
   "metadata": {},
   "outputs": [],
   "source": [
    "import os\n",
    "import pickle\n",
    "from collections import namedtuple\n",
    "\n",
    "def main():\n",
    "    print(\"*\"* 10 + \"select\" + \"*\"*10 +\"\\n\"\n",
    "         \"\\t New User (Register) \\n\"\n",
    "         \"\\t Login (Login) \\n \"+\n",
    "         \"*\"*20)\n",
    "    input_login=input(\"Enter your operation:\")\n",
    "    if input_login==\"Register\":\n",
    "        name=input(\"Enter your name :\" )\n",
    "        phone_no= int(input(\"Enter your phone number :\"))\n",
    "        email=str=(input(\"Enter your mail id: \"))\n",
    "        password= input(\"Enter your password : \")\n",
    "        address= input(\"Enter your Address :\")\n",
    "        login=[email,password]\n",
    "        pickle.dump(login,open('users.txt','wb'))\n",
    "        user=input(\"Enter username:\")\n",
    "        password=input(\"Enter password:\")\n",
    "        \n",
    "        try:\n",
    "            if(password==pickle.load(open('users.txt',rb))[1]) and user==pickle.load(open('users.txt','rb'))[0]:\n",
    "                print(\"Login Successfull !!\")\n",
    "                \n",
    "                print(\"*\"* 10 + \"select\" + \"*\"*10 +\"\\n\"\n",
    "                      \"\\t Place New Order: (place) \\n\"\n",
    "                      \"\\t Order History: (history) \\n \"\n",
    "                      \"\\t Update profile: (update) \\n \"+\n",
    "                      \"*\"*20)\n",
    "                input_action = input(\"Enter your operation:\")\n",
    "                if(input_action=='place'):\n",
    "                    print(\"*\"*20+\"Menu\"+\"*\"*20)\n",
    "                    \n",
    "                    MenuEntry= namedtuple('MenuEntry',['index','description','quantity','price'])\n",
    "                    menu=[]\n",
    "                    menu.append(MenuEntry(1,'Tandoori Chicken', '4 pieces','INR 240'))\n",
    "                    menu.append(MenuEntry(2,'Vegan burger', '1 piece','INR 320'))\n",
    "                    menu.append(MenuEntry(3,'Truffle cake', '500 gm','INR 980'))\n",
    "                    \n",
    "                    for entry in menu:\n",
    "                        index=str(getattr(entry,'index')).ljust(5)\n",
    "                        description=getattr(entry,'description').ljust(25)\n",
    "                        quantity=getattr(entry,'quantity').ljust(30)\n",
    "                        price=getattr(entry,'index').ljust(7)\n",
    "                        print('{0},{1},{2},{3}'.format(index,description,qyantity,price))\n",
    "                elif (input_action == 'history'):\n",
    "                    order_history()\n",
    "                elif(input_action=='update'):\n",
    "                    update_profile()\n",
    "                else:\n",
    "                    print(\"Invalid input\")\n",
    "                                  \n",
    "                def order_history():\n",
    "                    pass\n",
    "            \n",
    "                def update_profile():\n",
    "                    pass\n",
    "            else:\n",
    "                print(\"Login unseccessful\")\n",
    "                                  \n",
    "        except:\n",
    "            print(\"Invalid credentials\")\n",
    "                                  \n",
    "                                  \n",
    "main()"
   ]
  },
  {
   "cell_type": "code",
   "execution_count": null,
   "id": "10855f6e",
   "metadata": {
    "scrolled": true
   },
   "outputs": [],
   "source": []
  },
  {
   "cell_type": "code",
   "execution_count": null,
   "id": "2582bc9f",
   "metadata": {},
   "outputs": [],
   "source": []
  },
  {
   "cell_type": "code",
   "execution_count": null,
   "id": "24327480",
   "metadata": {},
   "outputs": [],
   "source": []
  }
 ],
 "metadata": {
  "kernelspec": {
   "display_name": "Python 3 (ipykernel)",
   "language": "python",
   "name": "python3"
  },
  "language_info": {
   "codemirror_mode": {
    "name": "ipython",
    "version": 3
   },
   "file_extension": ".py",
   "mimetype": "text/x-python",
   "name": "python",
   "nbconvert_exporter": "python",
   "pygments_lexer": "ipython3",
   "version": "3.10.4"
  }
 },
 "nbformat": 4,
 "nbformat_minor": 5
}
