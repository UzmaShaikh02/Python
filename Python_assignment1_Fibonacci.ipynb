{
 "cells": [
  {
   "cell_type": "code",
   "execution_count": 12,
   "id": "4d35ade5",
   "metadata": {},
   "outputs": [
    {
     "name": "stdout",
     "output_type": "stream",
     "text": [
      "The Fibonacci series: 0 1 1 2 3 5 8 13 21 34 "
     ]
    }
   ],
   "source": [
    "a = 0\n",
    "b = 1\n",
    "print(\"The Fibonacci series: \", end=\"\")\n",
    "print(a, end=\" \")\n",
    "print(b, end=\" \")\n",
    "for i in range(2,10):\n",
    "    c=a+b\n",
    "    a=b\n",
    "    b=c\n",
    "    print(c, end=\" \")   "
   ]
  }
 ],
 "metadata": {
  "kernelspec": {
   "display_name": "Python 3 (ipykernel)",
   "language": "python",
   "name": "python3"
  },
  "language_info": {
   "codemirror_mode": {
    "name": "ipython",
    "version": 3
   },
   "file_extension": ".py",
   "mimetype": "text/x-python",
   "name": "python",
   "nbconvert_exporter": "python",
   "pygments_lexer": "ipython3",
   "version": "3.10.4"
  }
 },
 "nbformat": 4,
 "nbformat_minor": 5
}
